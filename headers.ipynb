{
 "cells": [
  {
   "cell_type": "code",
   "execution_count": null,
   "metadata": {},
   "outputs": [],
   "source": [
    "# read the first 10 lines of a file\n",
    "path = '/home/fmlopez/lidar_data/BrionUH.xyz'\n",
    "with open(path, 'r') as file:\n",
    "    for i in range(10):\n",
    "        print(file.readline().strip())"
   ]
  },
  {
   "cell_type": "code",
   "execution_count": null,
   "metadata": {},
   "outputs": [],
   "source": [
    "clouds_path = '/home/fmlopez/lidar_data/'"
   ]
  },
  {
   "cell_type": "code",
   "execution_count": null,
   "metadata": {},
   "outputs": [],
   "source": [
    "src = f'/home/fmlopez/lidar_data/INAER_2011_Alcoy.xyz'\n",
    "dst = f'/home/fmlopez/lidar_data/small_Alcoy.xyz'\n",
    "Npoints = 2772832\n",
    "minx    = 715244.96\n",
    "maxx    = 716057.75\n",
    "miny    = 4286623.63\n",
    "maxy    = 4287447.70"
   ]
  },
  {
   "cell_type": "code",
   "execution_count": null,
   "metadata": {},
   "outputs": [],
   "source": [
    "src = f'/home/fmlopez/lidar_data/INAER_2011_Alcoy_Core.xyz'\n",
    "dst = f'/home/fmlopez/lidar_data/AlcoyH.xyz'\n",
    "Npoints = 20380212\n",
    "minx   = 714947.98\n",
    "maxx   = 716361.06\n",
    "miny   = 4286501.93\n",
    "maxy   = 4288406.23"
   ]
  },
  {
   "cell_type": "code",
   "execution_count": null,
   "metadata": {},
   "outputs": [],
   "source": [
    "src = f'/home/fmlopez/lidar_data/BABCOCK_2017_Arzua_3B.xyz'\n",
    "dst = f'/home/fmlopez/lidar_data/ArzuaH.xyz'\n",
    "Npoints = 40706503\n",
    "minx   = 568000.00\n",
    "maxx   = 568999.99\n",
    "miny   = 4752320.00\n",
    "maxy   = 4753319.99"
   ]
  },
  {
   "cell_type": "code",
   "execution_count": null,
   "metadata": {},
   "outputs": [],
   "source": [
    "src = f'/home/fmlopez/lidar_data/V19_group1_densified_point_cloud.xyz'\n",
    "dst = f'/home/fmlopez/lidar_data/BrionUH.xyz'\n",
    "Npoints = 48024480\n",
    "minx   = 526955.908\n",
    "maxx   = 527686.445\n",
    "miny   = 4742586.025\n",
    "maxy   = 4743124.373"
   ]
  },
  {
   "cell_type": "code",
   "execution_count": null,
   "metadata": {},
   "outputs": [],
   "source": [
    "src = f'/home/fmlopez/lidar_data/V21_group1_densified_point_cloud.xyz'\n",
    "dst = f'/home/fmlopez/lidar_data/BrionFH.xyz'\n",
    "Npoints = 42384876\n",
    "minx   = 526964.093\n",
    "maxx   = 527664.647\n",
    "miny   = 4742610.292\n",
    "maxy   = 4743115.738"
   ]
  },
  {
   "cell_type": "code",
   "execution_count": null,
   "metadata": {},
   "outputs": [],
   "source": [
    "# insert a line at the beginning of the file\n",
    "with open(dst, 'w') as file_dst:\n",
    "    file_dst.write(f'{Npoints} {minx} {maxx} {miny} {maxy}\\n')\n",
    "    # copy the rest of the file\n",
    "    with open(src, 'r') as file_src:\n",
    "        for line in file_src:\n",
    "            file_dst.write(line)\n",
    "print(f'Header added to file {dst}')"
   ]
  }
 ],
 "metadata": {
  "kernelspec": {
   "display_name": "Python 3",
   "language": "python",
   "name": "python3"
  },
  "language_info": {
   "codemirror_mode": {
    "name": "ipython",
    "version": 3
   },
   "file_extension": ".py",
   "mimetype": "text/x-python",
   "name": "python",
   "nbconvert_exporter": "python",
   "pygments_lexer": "ipython3",
   "version": "3.10.12"
  }
 },
 "nbformat": 4,
 "nbformat_minor": 2
}
