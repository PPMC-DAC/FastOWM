{
 "cells": [
  {
   "attachments": {},
   "cell_type": "markdown",
   "metadata": {},
   "source": [
    "# This script processes the file All_Optimizations.csv  \n",
    "\n",
    "1. Generate the file `<hostname>/All_Optimizations-<hostname>.txt` by running:\n",
    "    1. `process_baseline_results.ipynb` (for Baseline)\n",
    "    2. `process_o1quadtree_results.ipynb` (for Opt1-Quadtree)\n",
    "        1. `process_o1rev1_results.ipynb` (for Opt1-Rev1)\n",
    "    3. `process_o2partree_results.ipynb` (for Opt2-parallization)\n",
    "    4. `process_o3memo_results.ipynb` (for Opt3-memoization)\n",
    "    5. `process_o4minrad_maxnum.ipynb` (for Opt4-minradius and maxnumber optimizations)\n",
    "\n",
    "2. Run the next cells in this notebook..."
   ]
  },
  {
   "cell_type": "code",
   "execution_count": null,
   "metadata": {},
   "outputs": [],
   "source": [
    "import os\n",
    "import numpy as np\n",
    "import matplotlib.pyplot as plt\n",
    "from matplotlib.backends.backend_pdf import PdfPages\n",
    "import pandas as pd\n",
    "from common.utils import get_best_optimization\n",
    "\n",
    "# get the hostname of the server\n",
    "hostname = os.popen(\"hostname\").read().strip()\n",
    "\n",
    "df=pd.read_csv(os.path.join(hostname, f'All_Optimizations-{hostname}.csv'),sep=';')\n",
    "df.insert(4,\"Total\",0)\n",
    "df['Total']=df['TimeTree']+df['TimeOWM']\n",
    "df"
   ]
  },
  {
   "cell_type": "code",
   "execution_count": null,
   "metadata": {},
   "outputs": [],
   "source": [
    "# get baseline\n",
    "base = df.loc[df['Optimization'].str.contains('Baseline'), 'TimeTree':'Total'].copy()\n",
    "print(base)\n",
    "# get the best optimization\n",
    "best,best_label = get_best_optimization(df)\n",
    "print(best, best_label)"
   ]
  },
  {
   "cell_type": "code",
   "execution_count": null,
   "metadata": {},
   "outputs": [],
   "source": [
    "b=np.array(base)\n",
    "c=np.array(best)\n",
    "speedup=b/c\n",
    "np.set_printoptions(formatter={'float': lambda x: \"{0:0.2f}x\".format(x)})\n",
    "#Print total speedup for each cloud (one cloud per row, one column for ech time measurement)\n",
    "print(speedup)"
   ]
  },
  {
   "attachments": {},
   "cell_type": "markdown",
   "metadata": {},
   "source": [
    "# Speedup of each optimization w.r.t. the previous one"
   ]
  },
  {
   "cell_type": "code",
   "execution_count": null,
   "metadata": {},
   "outputs": [],
   "source": [
    "df['TreeSp']=1.\n",
    "df['OWMSp']=1.\n",
    "df['TotalSp']=1.\n",
    "\n",
    "#Speedup of one optimization w.r.t. the previous one\n",
    "for i in range(4,len(df)):\n",
    "    df.loc[i,'TreeSp']=df['TimeTree'][i-4]/df['TimeTree'][i]\n",
    "    df.loc[i,'OWMSp']=df['TimeOWM'][i-4]/df['TimeOWM'][i]\n",
    "    df.loc[i,'TotalSp']=df['Total'][i-4]/df['Total'][i]\n",
    "df"
   ]
  },
  {
   "attachments": {},
   "cell_type": "markdown",
   "metadata": {},
   "source": [
    "# Important notice\n",
    "\n",
    "**The sum of the relative speedups (one optim. wrt the previous one) is not the total speedup**"
   ]
  },
  {
   "cell_type": "code",
   "execution_count": null,
   "metadata": {},
   "outputs": [],
   "source": [
    "df.groupby('Cloud').sum().drop(['TimeTree','TimeOWM','Total','Level','MinRadMaxNum'],axis=1)"
   ]
  },
  {
   "attachments": {},
   "cell_type": "markdown",
   "metadata": {},
   "source": [
    "# Speedup of each optimization w.r.t. baseline"
   ]
  },
  {
   "cell_type": "code",
   "execution_count": null,
   "metadata": {},
   "outputs": [],
   "source": [
    "df=pd.read_csv(os.path.join(hostname, f'All_Optimizations-{hostname}.csv'),sep=';')\n",
    "df.insert(4,\"Total\",0)\n",
    "df['Total']=df['TimeTree']+df['TimeOWM']\n",
    "df['TreeSp']=1.\n",
    "df['OWMSp']=1.\n",
    "df['TotalSp']=1.\n",
    "#Speedup of one optimization w.r.t. baseline\n",
    "for i in range(4,len(df),4):\n",
    "    for j in range(4):\n",
    "        df.loc[i+j,'TreeSp']=df['TimeTree'][j]/df['TimeTree'][i+j]\n",
    "        df.loc[i+j,'OWMSp']=df['TimeOWM'][j]/df['TimeOWM'][i+j]\n",
    "        df.loc[i+j,'TotalSp']=df['Total'][j]/df['Total'][i+j]\n",
    "df"
   ]
  },
  {
   "cell_type": "code",
   "execution_count": null,
   "metadata": {},
   "outputs": [],
   "source": [
    "df.loc[df['Cloud'].str.contains('Alcoy')]['OWMSp']"
   ]
  },
  {
   "cell_type": "code",
   "execution_count": null,
   "metadata": {},
   "outputs": [],
   "source": [
    "df.loc[df['Cloud'].str.contains('Alcoy')]['OWMSp'] / df.loc[df['Cloud'].str.contains('Alcoy')]['OWMSp'].max()*100"
   ]
  },
  {
   "attachments": {},
   "cell_type": "markdown",
   "metadata": {},
   "source": [
    "# Improvement Factor for each cloud"
   ]
  },
  {
   "cell_type": "code",
   "execution_count": null,
   "metadata": {},
   "outputs": [],
   "source": [
    "def plot_allsp(df,xlab):\n",
    "    #Configuration variables\n",
    "    titlefs = 20\n",
    "    ylabelfs = 18\n",
    "    xlabelfs = 18\n",
    "    xticksfs = 16\n",
    "    yticksfs = 16\n",
    "    legendfs = 14\n",
    "    linew = 2\n",
    "    markers = 8\n",
    "    marks=['o-','x-','s-','v-','+-']\n",
    "\n",
    "    all=np.array(df.loc[4:,'TreeSp':'TotalSp'])\n",
    "    clouds=list(df.loc[0:3,'Cloud'])\n",
    "    bycloud={}\n",
    "    for i,j in zip(clouds,range(len(clouds))):\n",
    "        bycloud[i]=all[j::4].T\n",
    "\n",
    "    #fig = plt.figure()\n",
    "    labels=['OWM Trav.','Tree Const.','Total']\n",
    "    x=np.arange(1,len(xlab)+1)\n",
    "    #define grid of plots\n",
    "    fig, axs = plt.subplots(nrows=1, ncols=4,figsize=(15, 5), constrained_layout=True, sharey=True)\n",
    "    for i,name in zip(range(len(clouds)),clouds):\n",
    "        axs[i].plot(x, bycloud[name][1], marks[0], linewidth=linew, markersize=markers)\n",
    "        axs[i].plot(x, bycloud[name][0], marks[1], linewidth=linew, markersize=markers)\n",
    "        axs[i].plot(x, bycloud[name][2], marks[2], linewidth=linew, markersize=markers)\n",
    "\n",
    "        axs[i].set_title(name,fontsize=16)\n",
    "        axs[i].set_xlabel('Optimization', fontsize=xlabelfs)\n",
    "        axs[i].set_xticks(x,labels=xlab,fontsize=xticksfs)\n",
    "        # axs[i].yticks(fontsize=yticksfs)\n",
    "        axs[i].grid()\n",
    "    fig.suptitle(f'Improvement factor of each optimization wrt baseline @ {hostname.upper()}',  fontweight='bold', fontsize=18)\n",
    "    \n",
    "    axs[0].set_ylabel('Improvement Factor', fontsize=ylabelfs)\n",
    "    axs[0].legend(labels,loc='best', fontsize= 14)\n",
    "    pp = PdfPages(os.path.join(hostname, f\"Speedup_all_optim-{hostname}.pdf\"))\n",
    "    pp.savefig(fig)\n",
    "    pp.close()\n",
    "    #axs[i].show()\n",
    "\n",
    "# select only o1,o2,o3A,o3B,o3AB,o4R,o4N\n",
    "dfsel = df.loc[df['Optimization'].isin(['Baseline','Opt1-Quadtree','Opt2-Par','Opt3-MemoA','Opt3-MemoB','Opt3-Memo','Opt4-MinRad','Opt4-MaxNum'])]\n",
    "\n",
    "plot_allsp(dfsel,['1','2','3A','3B','3AB','R','N'])"
   ]
  },
  {
   "cell_type": "code",
   "execution_count": null,
   "metadata": {},
   "outputs": [],
   "source": [
    "# drop REV1, memoA, memoB, and maxNumber\n",
    "dfsel = df.loc[~df['Optimization'].str.contains('REV1|MemoA|MemoB|MaxNum')].copy()\n",
    "display(dfsel)\n",
    "plot_allsp(dfsel,['O1','O2','O3','O4'])"
   ]
  },
  {
   "cell_type": "code",
   "execution_count": null,
   "metadata": {},
   "outputs": [],
   "source": [
    "# drop baseline and keep only the column Optimization and the columns from TreeSp to TotalSp\n",
    "all_df = dfsel.loc[~dfsel['Optimization'].str.contains('Baseline')].copy()\n",
    "# get the position of the best optimization in the dataframe\n",
    "best_pos = all_df['Optimization'].unique().tolist().index(best_label)\n",
    "print(f'{best_label} is at position {best_pos}')\n",
    "# keep the speedups in an array\n",
    "all_a = np.array(all_df.loc[:, 'TreeSp':'TotalSp'])\n",
    "# get the clouds name\n",
    "clouds = list(all_df.loc[all_df['Optimization'].str.contains(best_label),'Cloud'])\n",
    "print(clouds)\n",
    "bycloud={}\n",
    "# create a dictionary with the speedups for each cloud\n",
    "for i,cloud in enumerate(clouds):\n",
    "    bycloud[cloud]=all_a[i::4]\n",
    "\n",
    "# normalize the speedups to the best optimization\n",
    "for i in clouds:\n",
    "    # bycloud[i] = bycloud[i] / bycloud[i][best_pos]*100\n",
    "    # the problem in this step is that best_pos points to the best optimization wrt Total time, but O2 or O3 could have a slightly better speedup wrt Tree construction an this would distort the next plot\n",
    "    # reduce along the axis 0 performing max\n",
    "    lmax = bycloud[i].max(axis=0)\n",
    "    # check if the maximum is not in best_pos\n",
    "    if not all(np.isclose(lmax, bycloud[i][best_pos])):\n",
    "        print(f'Warning: the maximum for all cases for {i} is not in position {best_pos}')\n",
    "        print(lmax)\n",
    "        print(bycloud[i][best_pos])\n",
    "    bycloud[i] = bycloud[i] / lmax*100\n",
    "# print(bycloud)\n",
    "\n",
    "# print(\"Adapt for stacked bar plot:\")    \n",
    "for i in clouds:\n",
    "    for j in range(3,0,-1):\n",
    "        bycloud[i][j]=bycloud[i][j]-bycloud[i][j-1]\n",
    "    # print(bycloud[i])\n",
    "\n",
    "# the order of the indices is: cloud, optimization, time\n",
    "all_norm=np.array([bycloud[x] for x in clouds])\n",
    "# print(f'Shape: {all_norm.shape}')\n",
    "#see this to understand the transpose https://stackoverflow.com/questions/32034237/how-does-numpys-transpose-method-permute-the-axes-of-an-array\n",
    "# now the order of the indices is: time, optimization, cloud\n",
    "all_t=all_norm.transpose(2,1,0)\n",
    "# print(all_t)"
   ]
  },
  {
   "cell_type": "code",
   "execution_count": null,
   "metadata": {},
   "outputs": [],
   "source": [
    "def plot_allsp100(clouds, npa):\n",
    "    #Configuration variables\n",
    "    titlefs = 20\n",
    "    ylabelfs = 18\n",
    "    xlabelfs = 18\n",
    "    xticksfs = 16\n",
    "    yticksfs = 16\n",
    "    legendfs = 14\n",
    "    linew = 2\n",
    "    markers = 8\n",
    "    marks=['o-','x-','s-','v-','+-']\n",
    "\n",
    "\n",
    "    #fig = plt.figure()\n",
    "    plots=['Tree Const.','OWM Trav.','Total']\n",
    "    # clouds=['Alcoy','Arzua','BrionF','BrionU']\n",
    "    x=np.arange(1,len(clouds)+1)\n",
    "    optim=['O1','O2','O3','O4']\n",
    "    width=0.35\n",
    "    #define grid of plots\n",
    "    fig, axs = plt.subplots(nrows=1, ncols=3, figsize=(15, 5), constrained_layout=True, sharey=True)\n",
    "    for i,name in enumerate(plots):\n",
    "        b=np.zeros(len(clouds))\n",
    "        for z,j in enumerate(optim):\n",
    "            axs[i].bar(x, npa[i][z], width, label=j, bottom=b)\n",
    "            b=b+npa[i][z]\n",
    "\n",
    "        axs[i].set_title(name,fontsize=16)\n",
    "        axs[i].set_xlabel('Cloud', fontsize=xlabelfs)\n",
    "        axs[i].set_xticks(x,labels=clouds,fontsize=xticksfs)\n",
    "        # axs[i].yticks(fontsize=yticksfs)\n",
    "        axs[i].grid()\n",
    "        \n",
    "    fig.suptitle(f'Relative improvement factor of each optimization wrt baseline @ {hostname.upper()}',  fontweight='bold', fontsize=18)\n",
    "    \n",
    "    axs[0].set_ylabel('% improvement factor', fontsize=ylabelfs)\n",
    "    axs[0].legend(optim,loc='best', fontsize= 14)\n",
    "    pp = PdfPages(os.path.join(hostname, f\"Speedup_all_optim_ratio-{hostname}.pdf\"))\n",
    "    pp.savefig(fig)\n",
    "    pp.close()\n",
    "\n",
    "plot_allsp100(clouds, all_t)"
   ]
  },
  {
   "attachments": {},
   "cell_type": "markdown",
   "metadata": {},
   "source": [
    "# Build LaTeX table with speedups due to all optimizations (relative to baseline)"
   ]
  },
  {
   "cell_type": "code",
   "execution_count": null,
   "metadata": {},
   "outputs": [],
   "source": [
    "# drop baseline and keep only the column Optimization and the columns from TreeSp to TotalSp\n",
    "all_df = dfsel.loc[~dfsel['Optimization'].str.contains('Baseline')].copy()\n",
    "# keep the speedups in an array\n",
    "all_a = np.array(all_df.loc[:, 'TreeSp':'TotalSp'])\n",
    "# get the clouds name\n",
    "clouds = list(all_df.loc[all_df['Optimization'].str.contains(best_label),'Cloud'])\n",
    "\n",
    "bycloud={}\n",
    "# create a dictionary with the speedups for each cloud\n",
    "for i,cloud in enumerate(clouds):\n",
    "    bycloud[cloud]=all_a[i::4]\n",
    "\n",
    "np.set_printoptions(formatter={'float': lambda x: \"& {0:0.2f}x \".format(x)})    \n",
    "bycloud"
   ]
  },
  {
   "cell_type": "code",
   "execution_count": null,
   "metadata": {},
   "outputs": [],
   "source": [
    "print(\"\\\\begin{tabular}{|c|ccc|ccc|ccc|ccc|}\\hline\")\n",
    "print(\"Cloud & \\multicolumn{3}{c|}{O1} & \\multicolumn{3}{c|}{O2} & \\multicolumn{3}{c|}{O3} & \\multicolumn{3}{c|}{O4} \\\\\\\\ \\hline\")  \n",
    "print(\" & Tree & OWM & Tot & Tree & OWM & Tot & Tree & OWM & Tot & Tree & OWM & Tot \\\\\\\\ \\hline\")\n",
    "for i in clouds:\n",
    "    print(i,end='')\n",
    "    for j in range(4):\n",
    "        for k in range(3):\n",
    "            print(\"& {0:0.2f}x \".format(bycloud[i][j][k]),end='')\n",
    "\n",
    "    print(\"\\\\\\\\ \\hline\")\n",
    "print(\"\\\\end{tabular}\")"
   ]
  },
  {
   "attachments": {},
   "cell_type": "markdown",
   "metadata": {},
   "source": [
    "# Build LaTeX table with speedups due to all optimizations (relative to the previous one)"
   ]
  },
  {
   "cell_type": "code",
   "execution_count": null,
   "metadata": {},
   "outputs": [],
   "source": [
    "df=pd.read_csv(os.path.join(hostname, f'All_Optimizations-{hostname}.csv'), sep=';')\n",
    "df.insert(4,\"Total\",0)\n",
    "df['Total']=df['TimeTree']+df['TimeOWM']\n",
    "df['TreeSp']=1.\n",
    "df['OWMSp']=1.\n",
    "df['TotalSp']=1.\n",
    "# drop REV1, memoA, memoB, and maxNumber\n",
    "dfsel = df.loc[~df['Optimization'].str.contains('REV1|MemoA|MemoB|MaxNum')].copy()\n",
    "dfsel.reset_index(drop=True, inplace=True)\n",
    "\n",
    "# Speedup of one optimization w.r.t. the previous one\n",
    "for i in range(4,len(dfsel)):\n",
    "    dfsel.loc[i,'TreeSp']=dfsel['TimeTree'][i-4]/dfsel['TimeTree'][i]\n",
    "    dfsel.loc[i,'OWMSp']=dfsel['TimeOWM'][i-4]/dfsel['TimeOWM'][i]\n",
    "    dfsel.loc[i,'TotalSp']=dfsel['Total'][i-4]/dfsel['Total'][i]\n",
    "dfsel.reset_index(drop=True, inplace=True)\n",
    "\n",
    "# drop baseline and keep only the column Optimization and the columns from TreeSp to TotalSp\n",
    "all_df = dfsel.loc[~dfsel['Optimization'].str.contains('Baseline')].copy()\n",
    "# keep the speedups in an array\n",
    "all_a = np.array(all_df.loc[:, 'TreeSp':'TotalSp'])\n",
    "# get the clouds name\n",
    "clouds = list(all_df.loc[all_df['Optimization'].str.contains(best_label),'Cloud'])\n",
    "bycloud={}\n",
    "# create a dictionary with the speedups for each cloud\n",
    "for i,cloud in enumerate(clouds):\n",
    "    bycloud[cloud]=all_a[i::4]\n",
    "\n",
    "np.set_printoptions(formatter={'float': lambda x: \"& {0:0.2f}x \".format(x)})    \n",
    "bycloud"
   ]
  },
  {
   "cell_type": "code",
   "execution_count": null,
   "metadata": {},
   "outputs": [],
   "source": [
    "print(\"\\\\begin{tabular}{|c|ccc|ccc|ccc|ccc|}\\hline\")\n",
    "print(\" & \\multicolumn{3}{c|}{O1 vs OpenMP baseline} & \\multicolumn{3}{c|}{O2 vs O1} & \\multicolumn{3}{c|}{O3 vs O2} &\\multicolumn{3}{c|}{O4 vs O3}\\\\\\\\\")  \n",
    "print(\"Cloud   & Tree C. & OWM & Total & Tree C. & OWM & Total & Tree C. & OWM & Total &  Tree C. & OWM & Total \\\\\\\\ \\hline\")\n",
    "for i in clouds:\n",
    "    print(i,end='')\n",
    "    for j in range(4):\n",
    "        for k in range(3):\n",
    "            print(\"& {0:0.2f}x \".format(bycloud[i][j][k]),end='')\n",
    "\n",
    "    print(\"\\\\\\\\ \\hline\")\n",
    "print(\"\\\\end{tabular}\")"
   ]
  },
  {
   "cell_type": "markdown",
   "metadata": {},
   "source": [
    "# Build LaTeX table with speedups due to all optimizations (relative to REV1)"
   ]
  },
  {
   "cell_type": "code",
   "execution_count": null,
   "metadata": {},
   "outputs": [],
   "source": [
    "df=pd.read_csv(os.path.join(hostname, f'All_Optimizations-{hostname}.csv'), sep=';')\n",
    "df.insert(4,\"Total\",0)\n",
    "df['Total']=df['TimeTree']+df['TimeOWM']\n",
    "df['TreeSp']=1.\n",
    "df['OWMSp']=1.\n",
    "df['TotalSp']=1.\n",
    "# drop memoA, memoB, and maxNumber\n",
    "dfsel = df.loc[~df['Optimization'].str.contains('MemoA|MemoB|MaxNum')].copy()\n",
    "dfsel.reset_index(drop=True, inplace=True)\n",
    "\n",
    "# get the position of Opt1-REV1\n",
    "pos = dfsel.loc[dfsel['Optimization'].str.contains('Opt1-REV1')].index[0]\n",
    "\n",
    "#Speedup of one optimization w.r.t. REV1 pos\n",
    "for i in range(0,len(dfsel),4):\n",
    "    for j in range(4):\n",
    "        dfsel.loc[i+j,'TreeSp']=dfsel['TimeTree'][pos+j]/dfsel['TimeTree'][i+j]\n",
    "        dfsel.loc[i+j,'OWMSp']=dfsel['TimeOWM'][pos+j]/dfsel['TimeOWM'][i+j]\n",
    "        dfsel.loc[i+j,'TotalSp']=dfsel['Total'][pos+j]/dfsel['Total'][i+j]\n",
    "\n",
    "# get only O2\n",
    "dfo2 = dfsel.loc[dfsel['Optimization'].isin(['Opt2-Par'])].copy()\n",
    "dfo2.reset_index(drop=True, inplace=True)\n",
    "\n",
    "print(f\"TBB is still {(dfo2['OWMSp'].mean()-1)*100:.1f}% faster than OMP with collapse and the tuned dynamic scheduler on average for the 4 clouds, {(dfo2['OWMSp'][0]-1)*100:.1f}%, {(dfo2['OWMSp'][1]-1)*100:.1f}%, {(dfo2['OWMSp'][2]-1)*100:.1f}%, {(dfo2['OWMSp'][3]-1)*100:.1f}% faster for Alcoy, Arzua, BrionF and BrionU, respectively.\")"
   ]
  }
 ],
 "metadata": {
  "kernelspec": {
   "display_name": "venv",
   "language": "python",
   "name": "python3"
  },
  "language_info": {
   "codemirror_mode": {
    "name": "ipython",
    "version": 3
   },
   "file_extension": ".py",
   "mimetype": "text/x-python",
   "name": "python",
   "nbconvert_exporter": "python",
   "pygments_lexer": "ipython3",
   "version": "3.9.13"
  },
  "orig_nbformat": 4
 },
 "nbformat": 4,
 "nbformat_minor": 2
}
