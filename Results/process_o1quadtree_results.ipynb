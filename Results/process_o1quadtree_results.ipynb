{
 "cells": [
  {
   "attachments": {},
   "cell_type": "markdown",
   "metadata": {},
   "source": [
    "# This script process the optimization1_quadtree results \n",
    "\n",
    "1. Compile the optimization1_quadtree with:\n",
    "```\n",
    "make bin/o1qtree\n",
    "```\n",
    "2. Run the benchmarking script\n",
    "```\n",
    "cd scripts\n",
    "python3 run_par_optim1_qtree.py\n",
    "```\n",
    "3. The output that we will process is `o1_qtree_<hostname>.txt` that should be already saved in the `Results` folder."
   ]
  },
  {
   "cell_type": "code",
   "execution_count": null,
   "metadata": {},
   "outputs": [],
   "source": [
    "import os\n",
    "# get the hostname of the server\n",
    "hostname = os.popen(\"hostname\").read().strip()\n",
    "# ensure the directory exists\n",
    "os.makedirs(hostname, exist_ok=True)\n",
    "# ensure the file with baseline results exists\n",
    "o1_file = f'o1_qtree_{hostname}.txt'\n",
    "# if it is not in Results\n",
    "if not os.path.exists(o1_file):\n",
    "    # is the file already in the directory?\n",
    "    assert os.path.exists(os.path.join(hostname, o1_file)), f'File {o1_file} not found: something went wrong with the baseline benchmark.'\n",
    "# if it is in Results\n",
    "else:\n",
    "    # copy the file to the directory\n",
    "    assert os.system(f'mv {o1_file} {hostname}/') == 0, f'Failed to move {o1_file} to {hostname}/'\n",
    "# rename o1_file\n",
    "o1_file = os.path.join(hostname, o1_file)"
   ]
  },
  {
   "cell_type": "code",
   "execution_count": null,
   "metadata": {},
   "outputs": [],
   "source": [
    "import numpy as np\n",
    "import matplotlib.pyplot as plt\n",
    "from matplotlib.backends.backend_pdf import PdfPages\n",
    "import sys\n",
    "from statistics import mean\n",
    "\n",
    "experiment ={}\n",
    "\n",
    "# get the number of physical cores\n",
    "nprocs = int(os.popen(\"lscpu | grep 'Core(s) per socket' | awk '{print $4}'\").read().strip())\n",
    "# number of threads used in the execution\n",
    "num_threads = np.insert(np.linspace(2, nprocs, nprocs//2, dtype=int, endpoint=True), 0, 1)\n",
    "\n",
    "with open(o1_file) as f:\n",
    "    for line in f:\n",
    "        tokens = line.split()\n",
    "        if \"Running:\" in tokens:\n",
    "            name=tokens[2].split(\"/\")[3]\n",
    "            nth=int(tokens[6])\n",
    "            if name not in experiment:\n",
    "                experiment[name]={}\n",
    "        if 'Quadtree' in tokens:\n",
    "            experiment[name][nth]=[float(tokens[5])]\n",
    "        if \"STAGE\" in tokens:\n",
    "            experiment[name][nth].append(float(tokens[5]))\n",
    "        if 'Average:' in tokens:\n",
    "            experiment[name][nth].append(float(tokens[1]))\n",
    "\n",
    "#print(experiment)\n",
    "\n",
    "results = {}\n",
    "\n",
    "for i in experiment:\n",
    "    results[i]={}\n",
    "    for j in experiment[i]:\n",
    "        results[i][j]={}\n",
    "        results[i][j]['qtree']=experiment[i][j][0]\n",
    "        results[i][j]['stage1']=mean(experiment[i][j][1:15:3])\n",
    "        results[i][j]['stage2']=mean(experiment[i][j][2:15:3])\n",
    "        results[i][j]['stage3']=mean(experiment[i][j][3:15:3])\n",
    "        results[i][j]['owm']=experiment[i][j][16]\n",
    "#print(results)\n",
    "for i in experiment:\n",
    "    print(\"Cloud {} has quadtree creation time = {:.2f}\".format(i,mean(list(results[i][j]['qtree'] for j in [1,2,4,6,8]))))\n"
   ]
  },
  {
   "cell_type": "code",
   "execution_count": null,
   "metadata": {},
   "outputs": [],
   "source": [
    "for i in experiment:\n",
    "    print(\"Cloud {} has sequential OWM time = {:.2f}\".format(i,results[i][1]['owm'] ))\n"
   ]
  },
  {
   "cell_type": "code",
   "execution_count": null,
   "metadata": {},
   "outputs": [],
   "source": [
    "maxth = num_threads[-1]\n",
    "for i in experiment:\n",
    "    print(\"Cloud {} has parallel OWM with {} threads time(speedup) = {:.2f} ({:.1f}x)\".format(i,maxth,results[i][maxth]['owm'],results[i][1]['owm']/results[i][maxth]['owm'] ))\n",
    "    "
   ]
  },
  {
   "attachments": {},
   "cell_type": "markdown",
   "metadata": {},
   "source": [
    "# Comparing with baseline"
   ]
  },
  {
   "cell_type": "code",
   "execution_count": null,
   "metadata": {},
   "outputs": [],
   "source": [
    "experiment_base ={}\n",
    "with open(os.path.join(hostname, f'baseline_{hostname}.txt')) as f:\n",
    "    for line in f:\n",
    "        tokens = line.split()\n",
    "        if \"Running:\" in tokens:\n",
    "            name=tokens[2].split(\"/\")[3]\n",
    "            nth=int(tokens[6])\n",
    "            if name not in experiment_base:\n",
    "                experiment_base[name]={'seq':{}, 'par':{} }\n",
    "        if \"SEQUENTIAL\" in tokens:\n",
    "            status=\"seq\"\n",
    "        if 'CORES' in tokens:\n",
    "            status=\"par\"\n",
    "        if 'Octree' in tokens:\n",
    "            experiment_base[name][status][nth]=[float(tokens[5])]\n",
    "        if \"STAGE\" in tokens:\n",
    "            experiment_base[name][status][nth].append(float(tokens[5]))\n",
    "        if 'Average:' in tokens:\n",
    "            experiment_base[name][status][nth].append(float(tokens[1]))\n",
    "\n",
    "#print(experiment_base)\n",
    "\n",
    "results_base = {}\n",
    "\n",
    "for i in experiment_base:\n",
    "    results_base[i]={'seq':{}, 'par':{} }\n",
    "    results_base[i]['seq']['octree']=experiment_base[i]['seq'][1][0]\n",
    "    results_base[i]['seq']['stage1']=mean(experiment_base[i]['seq'][1][1:15:3])\n",
    "    results_base[i]['seq']['stage2']=mean(experiment_base[i]['seq'][1][2:15:3])\n",
    "    results_base[i]['seq']['stage3']=mean(experiment_base[i]['seq'][1][3:15:3])\n",
    "    results_base[i]['seq']['owm']=experiment_base[i]['seq'][1][16]\n",
    "    for j in experiment_base[i]['par']:\n",
    "        results_base[i]['par'][j]={}\n",
    "        results_base[i]['par'][j]['octree']=experiment_base[i]['par'][j][0]\n",
    "        results_base[i]['par'][j]['stage1']=mean(experiment_base[i]['par'][j][1:15:3])\n",
    "        results_base[i]['par'][j]['stage2']=mean(experiment_base[i]['par'][j][2:15:3])\n",
    "        results_base[i]['par'][j]['stage3']=mean(experiment_base[i]['par'][j][3:15:3])\n",
    "        results_base[i]['par'][j]['owm']=experiment_base[i]['par'][j][16]\n",
    "\n",
    "octree_time = []\n",
    "quadtree_time = []\n",
    "for i in experiment_base:\n",
    "    print(\"Cloud {} has Octree creation time = {:.2f}\".format(i,mean(list(results_base[i]['par'][j]['octree'] for j in num_threads))))\n",
    "    octree_time.append(mean(list(results_base[i]['par'][j]['octree'] for j in num_threads)))\n",
    "\n",
    "for i,z in zip(experiment,range(len(experiment))):\n",
    "    quadtree_time.append(mean(list(results[i][j]['qtree'] for j in num_threads)))\n",
    "    print(\"Cloud {} has quadtree creation time = {:.2f} ({:.2f}x)\".format(i,quadtree_time[z],octree_time[z]/quadtree_time[z]))\n",
    "\n",
    "for i in experiment_base:\n",
    "    print(\"Cloud {} has sequential OWM time = {:.2f}\".format(i,results_base[i]['seq']['owm'] ))\n",
    "\n",
    "for i in experiment:\n",
    "    print(\"Cloud {} has sequential OWM time WITH opt1 = {:.2f} ({:.2f}x)\".format(i,results[i][1]['owm'],results_base[i]['seq']['owm']/results[i][1]['owm'] ))     \n",
    "\n",
    "for i in experiment_base:\n",
    "    print(\"Cloud {} has parallel OWM with {} threads time(speedup) = {:.2f} ({:.1f}x)\".format(i,maxth,results_base[i]['par'][maxth]['owm'],results_base[i]['seq']['owm']/results_base[i]['par'][maxth]['owm'] ))\n",
    "\n",
    "for i in experiment:\n",
    "    print(\"Cloud {} has parallel OWM with {} threads and opt1 time(speedup wrt base {} th) = {:.2f} ({:.1f}x)\".format(i,maxth,maxth,results[i][maxth]['owm'],results_base[i]['par'][maxth]['owm']/results[i][maxth]['owm'] ))\n",
    "\n",
    "for i in experiment:\n",
    "    print(\"Cloud {} has parallel OWM with {} threads and opt1 time(speedup wrt base 1th) = {:.2f} ({:.1f}x)\".format(i,maxth,results[i][maxth]['owm'],results_base[i]['seq']['owm']/results[i][maxth]['owm'] ))"
   ]
  },
  {
   "cell_type": "code",
   "execution_count": null,
   "metadata": {},
   "outputs": [],
   "source": [
    "for i in experiment:\n",
    "    for j in ['stage1','stage2','stage3']:\n",
    "        print(\"Cloud {} stage {} time (percent) = {:.4f} ({:.2f}x)\".format(i,j,results[i][1][j],results[i][1][j]/results[i][1]['owm']*100))\n"
   ]
  },
  {
   "attachments": {},
   "cell_type": "markdown",
   "metadata": {},
   "source": [
    "# Spedup for each cloud"
   ]
  },
  {
   "cell_type": "code",
   "execution_count": null,
   "metadata": {},
   "outputs": [],
   "source": [
    "#Configuration variables\n",
    "titlefs = 20\n",
    "ylabelfs = 18\n",
    "xlabelfs = 18\n",
    "xticksfs = 16\n",
    "yticksfs = 16\n",
    "legendfs = 14\n",
    "linew = 2\n",
    "markers = 8\n",
    "\n",
    "fig = plt.figure()\n",
    "\n",
    "marks=['o-','x-','s-','v-','+-']\n",
    "\n",
    "for (i,z) in zip(experiment,marks):\n",
    "    print(np.array([results[i][1]['owm']/results[i][j]['owm'] for j in num_threads]))\n",
    "    plt.plot(np.array(num_threads), np.array([results[i][1]['owm']/results[i][j]['owm'] for j in num_threads]), z, linewidth=linew, markersize=markers)\n",
    "plt.plot(np.array(num_threads), np.array(num_threads), '-', linewidth=linew, markersize=markers)\n",
    "\n",
    "sizes=[i for i in experiment]\n",
    "sizes.append('Ideal')\n",
    "plt.title(f'Speedup O1 {hostname.upper()}',  fontweight='bold', fontsize=titlefs)\n",
    "plt.legend(sizes,loc='best', fontsize= legendfs)\n",
    "plt.ylabel('Speedup', fontsize=ylabelfs)\n",
    "plt.xlabel('Number of cores', fontsize=xlabelfs)\n",
    "plt.xticks(num_threads,fontsize=xticksfs)\n",
    "plt.yticks(fontsize=yticksfs)\n",
    "plt.grid()\n",
    "\n",
    "plt.show()"
   ]
  },
  {
   "cell_type": "code",
   "execution_count": null,
   "metadata": {},
   "outputs": [],
   "source": [
    "pp = PdfPages(os.path.join(hostname, f'Speedup-opt1-quadtree-{hostname}.pdf'))\n",
    "pp.savefig(fig)\n",
    "pp.close()"
   ]
  },
  {
   "attachments": {},
   "cell_type": "markdown",
   "metadata": {},
   "source": [
    "# Save results in All_Optimizations.csv"
   ]
  },
  {
   "cell_type": "code",
   "execution_count": null,
   "metadata": {},
   "outputs": [],
   "source": [
    "output = os.path.join(hostname, f'All_Optimizations-{hostname}.csv')\n",
    "\n",
    "f = open(output, \"a\")\n",
    "quadtree_t = []\n",
    "for i,z in zip(results,range(len(experiment))):\n",
    "    quadtree_t.append(mean(list(results[i][j]['qtree'] for j in num_threads)))\n",
    "    print(\"Opt1-Quadtree; {}; {:.5f}; {:.5f};{};{}\".format(i,quadtree_t[z],results[i][8]['owm'],0,0))\n",
    "    f.write(\"Opt1-Quadtree;{};{:.5f};{:.5f};{};{}\\n\".format(i,quadtree_t[z],results[i][8]['owm'],0,0))\n",
    "\n",
    "f.close()"
   ]
  }
 ],
 "metadata": {
  "kernelspec": {
   "display_name": "base",
   "language": "python",
   "name": "python3"
  },
  "language_info": {
   "codemirror_mode": {
    "name": "ipython",
    "version": 3
   },
   "file_extension": ".py",
   "mimetype": "text/x-python",
   "name": "python",
   "nbconvert_exporter": "python",
   "pygments_lexer": "ipython3",
   "version": "3.9.13"
  },
  "orig_nbformat": 4,
  "vscode": {
   "interpreter": {
    "hash": "850f69f8b3870a2e12c010bb1b08bab45b077fa7538fcdf70f2545b339f20404"
   }
  }
 },
 "nbformat": 4,
 "nbformat_minor": 2
}
