{
 "cells": [
  {
   "cell_type": "markdown",
   "metadata": {},
   "source": [
    "# Compare different Results from different servers\n",
    "\n",
    "1. This notebook will target the directories `coffeelake1`, `alder`, and `bombay`\n",
    "\n",
    "2. The files needed inside each directory are `All_Optimizations-<hostanme>.csv` and `All_OptimizationsSYCL-CUDA-<hostname>.csv`"
   ]
  },
  {
   "cell_type": "code",
   "execution_count": null,
   "metadata": {},
   "outputs": [],
   "source": [
    "import os\n",
    "import numpy as np\n",
    "import matplotlib.pyplot as plt\n",
    "from matplotlib.backends.backend_pdf import PdfPages\n",
    "import pandas as pd\n",
    "from common.utils import get_best_optimization\n",
    "\n",
    "# list of hosts\n",
    "host_list = ['coffeelake1', 'alder', 'bombay']\n",
    "\n",
    "tbb_res = {}\n",
    "sycl_res = {}\n",
    "\n",
    "# get all the results\n",
    "for hostname in host_list:\n",
    "    # get the TBB results\n",
    "    df = pd.read_csv(os.path.join(hostname, f'All_Optimizations-{hostname}.csv'), sep=';')\n",
    "    # get Total times\n",
    "    df.insert(4,\"Total\",0)\n",
    "    df['Total']=df['TimeTree']+df['TimeOWM']\n",
    "    # get the best optimization\n",
    "    _,besttbb_label = get_best_optimization(df)\n",
    "    print(f'Best optimization for TBB in {hostname}: {besttbb_label}')\n",
    "    # keep only Baseline and the best optimization\n",
    "    df = df.loc[df['Optimization'].isin(['Baseline', besttbb_label])]\n",
    "    df.reset_index(drop=True, inplace=True)\n",
    "    # keep the dataframe\n",
    "    tbb_res[hostname] = df.copy()\n",
    "\n",
    "    # get SYCL results\n",
    "    dfs=pd.read_csv(os.path.join(hostname, f'All_OptimizationsSYCL-CUDA-{hostname}.csv'), sep=';')\n",
    "    # get the Total times\n",
    "    dfs.insert(4,\"Total\",0)\n",
    "    dfs['Total']=dfs['TimeTree']+dfs['TimeOWM']\n",
    "    # keep only memo versions\n",
    "    dfm = dfs[~dfs[\"Optimization\"].str.contains(\"nomemo\")].copy()\n",
    "    # keep the best version between CUDA and CUDA-grid\n",
    "    opts = dfm['Optimization'].unique()\n",
    "    if 'owm-cuda' in opts and 'owm-cuda-grid' in opts:\n",
    "        if dfm.loc[dfm['Optimization'] == 'owm-cuda', 'Total'].mean() > dfm.loc[dfm['Optimization'] == 'owm-cuda-grid', 'Total'].mean():\n",
    "            # drop CUDA without grid\n",
    "            drop_label = 'owm-cuda'\n",
    "        else:\n",
    "            drop_label = 'owm-cuda-grid'\n",
    "        # drop the selected label\n",
    "        dfm = dfm[~dfm['Optimization'].isin([drop_label])].copy()\n",
    "    # keep the dataframe\n",
    "    sycl_res[hostname] = dfm.copy()\n"
   ]
  },
  {
   "cell_type": "markdown",
   "metadata": {},
   "source": [
    "# Compare each implementation against the others hosts"
   ]
  },
  {
   "cell_type": "code",
   "execution_count": null,
   "metadata": {},
   "outputs": [],
   "source": [
    "# supose coffeelake1 as the reference\n",
    "tbb_ref,_ = get_best_optimization(tbb_res['coffeelake1'])\n",
    "\n",
    "for hostname in tbb_res:\n",
    "    if hostname == 'coffeelake1':\n",
    "        continue\n",
    "    # get the best optimization\n",
    "    besttbb,besttbb_label = get_best_optimization(tbb_res[hostname])\n",
    "    ref = np.array(tbb_ref)\n",
    "    best = np.array(besttbb)\n",
    "    speedupTBB = ref/best\n",
    "    print(f\"Speedup O4 {hostname} against coffeelake1:\")\n",
    "    print(speedupTBB)\n"
   ]
  }
 ],
 "metadata": {
  "kernelspec": {
   "display_name": "venv",
   "language": "python",
   "name": "python3"
  },
  "language_info": {
   "codemirror_mode": {
    "name": "ipython",
    "version": 3
   },
   "file_extension": ".py",
   "mimetype": "text/x-python",
   "name": "python",
   "nbconvert_exporter": "python",
   "pygments_lexer": "ipython3",
   "version": "3.10.12"
  }
 },
 "nbformat": 4,
 "nbformat_minor": 2
}
