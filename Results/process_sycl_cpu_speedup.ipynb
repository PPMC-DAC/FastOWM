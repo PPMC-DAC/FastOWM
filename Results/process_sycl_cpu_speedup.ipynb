{
 "cells": [
  {
   "cell_type": "markdown",
   "metadata": {},
   "source": [
    "# This script processes SYCL and CUDA results \n",
    "\n",
    "1. Go to SYCL-CUDA directory and compile all CPU versions with:\n",
    "```\n",
    "make owm-sycl-cpu owm-sycl-cpu-nomemo\n",
    "```\n",
    "2. Run the benchmarking script\n",
    "```\n",
    "cd scripts\n",
    "python run_sycl_cpu_speedup.py\n",
    "```\n",
    "3. The output that we will process is `sycl_cpu_speedup_<hostname>.txt` that should be already in the `Results` directory.\n",
    "\n"
   ]
  },
  {
   "cell_type": "code",
   "execution_count": null,
   "metadata": {},
   "outputs": [],
   "source": [
    "import os\n",
    "# get the hostname of the server\n",
    "hostname = os.popen(\"hostname\").read().strip()\n",
    "# ensure the directory exists\n",
    "os.makedirs(hostname, exist_ok=True)\n",
    "# ensure the file with baseline results exists\n",
    "sycl_file = f'sycl_cpu_speedup_{hostname}.txt'\n",
    "# if it is not in Results\n",
    "if not os.path.exists(sycl_file):\n",
    "    # is the file already in the directory?\n",
    "    assert os.path.exists(os.path.join(hostname, sycl_file)), f'File {sycl_file} not found: something went wrong with the sycl_cuda benchmark.'\n",
    "# if it is in Results\n",
    "else:\n",
    "    # copy the file to the directory\n",
    "    assert os.system(f'mv {sycl_file} {hostname}/') == 0, f'Failed to move {sycl_file} to {hostname}/'\n",
    "# rename sycl_file\n",
    "sycl_file = os.path.join(hostname, sycl_file)"
   ]
  },
  {
   "cell_type": "code",
   "execution_count": null,
   "metadata": {},
   "outputs": [],
   "source": [
    "import numpy as np\n",
    "import matplotlib.pyplot as plt\n",
    "from matplotlib.backends.backend_pdf import PdfPages\n",
    "from common.utils import tokenize_sycl_cpu\n",
    "\n",
    "res_cpu = tokenize_sycl_cpu(sycl_file)"
   ]
  },
  {
   "cell_type": "code",
   "execution_count": null,
   "metadata": {},
   "outputs": [],
   "source": [
    "#Configuration variables\n",
    "def plot_res(res):\n",
    "    titlefs = 20\n",
    "    ylabelfs = 18\n",
    "    xlabelfs = 18\n",
    "    xticksfs = 16\n",
    "    yticksfs = 16\n",
    "    legendfs = 14\n",
    "    linew = 2\n",
    "    markers = 8\n",
    "\n",
    "    fig = plt.figure()\n",
    "\n",
    "    marks=['o-','x-','s-','v-','+-']\n",
    "    # there is only one possible level for each cloud, as we performed the tests with only one level\n",
    "    bestmN=[min(res[i], key=lambda x: res[i][x][8][4]) for i in res]\n",
    "    numthreads=list(res['Alcoy'][bestmN[0]].keys())\n",
    "    print(bestmN,numthreads)\n",
    "    labels=['Tree Const.','OWM Trav.','Total']\n",
    "\n",
    "    fig, axs = plt.subplots(nrows=1, ncols=3,figsize=(15, 5), constrained_layout=True)\n",
    "    sizes=[i+\" (mN=\"+str(j)+\")\" for i,j in zip(res,bestmN)]\n",
    "    sizes.append('Ideal')\n",
    "\n",
    "    for subfig,phase in enumerate([0,3,4]): # ['qtree','owm','total']\n",
    "        # print(\"Phase: \"+phase+ \" speedup for each cloud and best level for each cloud: \"+str(list(res.keys())))\n",
    "        for (i,z,mN) in zip(res,marks,bestmN):\n",
    "            # print(np.array([res[i][mN][1][subfig]/res[i][mN][j][subfig] for j in numthreads]))\n",
    "            axs[subfig].plot(np.array(numthreads), np.array([res[i][mN][1][phase]/res[i][mN][j][phase] for j in numthreads]), z, linewidth=linew, markersize=markers)\n",
    "        axs[subfig].plot(np.array(numthreads), np.array(numthreads), '-', linewidth=linew, markersize=markers)\n",
    "        axs[subfig].set_title(f'{labels[subfig]}',  fontweight='bold', fontsize=ylabelfs)\n",
    "        axs[subfig].set_xlabel('Number of cores', fontsize=xlabelfs)\n",
    "        axs[subfig].set_xticks(numthreads)\n",
    "        axs[subfig].tick_params(axis='x', labelsize=xticksfs)\n",
    "        axs[subfig].grid()\n",
    "\n",
    "    fig.suptitle(f'Speedup for each cloud and each phase SYCL-CPU @ {hostname}', fontweight='bold', fontsize=titlefs)\n",
    "    axs[0].set_ylabel('Speedup', fontsize=ylabelfs)\n",
    "    axs[0].legend(sizes,loc='best', fontsize= legendfs)\n",
    "\n",
    "    return fig\n",
    "\n",
    "fig = plot_res(res_cpu['owm-sycl-cpu'])"
   ]
  },
  {
   "cell_type": "code",
   "execution_count": null,
   "metadata": {},
   "outputs": [],
   "source": [
    "pp = PdfPages(f\"{hostname}/Speedup-SYCL-CPU-{hostname}.pdf\")\n",
    "pp.savefig(fig)\n",
    "pp.close()"
   ]
  }
 ],
 "metadata": {
  "kernelspec": {
   "display_name": "venv",
   "language": "python",
   "name": "python3"
  },
  "language_info": {
   "codemirror_mode": {
    "name": "ipython",
    "version": 3
   },
   "file_extension": ".py",
   "mimetype": "text/x-python",
   "name": "python",
   "nbconvert_exporter": "python",
   "pygments_lexer": "ipython3",
   "version": "3.10.12"
  }
 },
 "nbformat": 4,
 "nbformat_minor": 2
}
