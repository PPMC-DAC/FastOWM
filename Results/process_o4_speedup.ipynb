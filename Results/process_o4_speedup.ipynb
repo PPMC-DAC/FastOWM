{
 "cells": [
  {
   "attachments": {},
   "cell_type": "markdown",
   "metadata": {},
   "source": [
    "# This script processes the o4 minradius results for best level-minRadius configuration for each cloud\n",
    "\n",
    "1. Compile o3memo with:\n",
    "```\n",
    "make bin/o3memo \n",
    "```\n",
    "2. Run the benchmarking script\n",
    "```\n",
    "cd scripts\n",
    "python3 run_par_speedup.py\n",
    "```\n",
    "3. The output that we will process is `o4_speedup_<hostname>.csv` that should be already saved in the `Results` folder.\n"
   ]
  },
  {
   "cell_type": "code",
   "execution_count": null,
   "metadata": {},
   "outputs": [],
   "source": [
    "import os\n",
    "# get the hostname of the server\n",
    "hostname = os.popen(\"hostname\").read().strip()\n",
    "# ensure the directory exists\n",
    "os.makedirs(hostname, exist_ok=True)\n",
    "# ensure the files exist\n",
    "file_list = [                   \n",
    "                f'o4_speedup_{hostname}.csv',\n",
    "            ]\n",
    "\n",
    "for o4_file in file_list:\n",
    "    # if it is not in Results\n",
    "    if not os.path.exists(o4_file):\n",
    "        # is the file already in the directory?\n",
    "        assert os.path.exists(os.path.join(hostname, o4_file)), f'File {o4_file} not found: something went wrong with the baseline benchmark.'\n",
    "    # if it is in Results\n",
    "    else:\n",
    "        # copy the file to the directory\n",
    "        assert os.system(f'mv {o4_file} {hostname}/') == 0, f'Failed to move {o4_file} to {hostname}/'\n",
    "# add the path to all the names in the list\n",
    "for i in range(len(file_list)):\n",
    "    file_list[i] = os.path.join(hostname, file_list[i])"
   ]
  },
  {
   "cell_type": "code",
   "execution_count": null,
   "metadata": {},
   "outputs": [],
   "source": [
    "import numpy as np\n",
    "import matplotlib.pyplot as plt\n",
    "from matplotlib.backends.backend_pdf import PdfPages\n",
    "import sys\n",
    "from statistics import mean\n",
    "\n",
    "def tokenize(filename):\n",
    "    results ={}\n",
    "    with open(filename) as f:\n",
    "        next(f) # skip header\n",
    "        for line in f:\n",
    "            tokens = line.split()\n",
    "            name=tokens[1].split(\"/\")[3][:-5]\n",
    "            nth=int(tokens[2])\n",
    "            level=int(tokens[5])\n",
    "            if name not in results:\n",
    "                results[name]={}\n",
    "            if level not in results[name]:\n",
    "                results[name][level]={}\n",
    "            results[name][level][nth]=[float(tokens[6])] # tree construction time\n",
    "            results[name][level][nth].append(float(tokens[7])) # owm time\n",
    "            results[name][level][nth].append(float(tokens[6])+float(tokens[7])) # total time\n",
    "            results[name][level][nth].append(float(tokens[8])) # accuracy\n",
    "    return results\n",
    "\n",
    "resSP = tokenize(os.path.join(hostname, f'o4_speedup_{hostname}.csv'))\n"
   ]
  },
  {
   "cell_type": "code",
   "execution_count": null,
   "metadata": {},
   "outputs": [],
   "source": [
    "#Configuration variables\n",
    "def plot_res(res):\n",
    "    titlefs = 20\n",
    "    ylabelfs = 18\n",
    "    xlabelfs = 18\n",
    "    xticksfs = 16\n",
    "    yticksfs = 16\n",
    "    legendfs = 14\n",
    "    linew = 2\n",
    "    markers = 8\n",
    "\n",
    "    fig = plt.figure()\n",
    "\n",
    "    marks=['o-','x-','s-','v-','+-']\n",
    "    # there is only one possible level for each cloud, as we performed the tests with only one level\n",
    "    bestlevel=[min(res[i], key=lambda x: res[i][x][8][2]) for i in res]\n",
    "    numthreads=list(res['Alcoy'][bestlevel[0]].keys())\n",
    "    print(bestlevel,numthreads)\n",
    "    labels=['Tree Const.','OWM Trav.','Total']\n",
    "\n",
    "    fig, axs = plt.subplots(nrows=1, ncols=3,figsize=(15, 5), constrained_layout=True)\n",
    "    sizes=[i+\" (lev=\"+str(j)+\")\" for i,j in zip(res,bestlevel)]\n",
    "    sizes.append('Ideal')\n",
    "\n",
    "    for phase,subfig in zip(['qtree','owm','total'],range(3)):\n",
    "        # print(\"Phase: \"+phase+ \" speedup for each cloud and best level for each cloud: \"+str(list(res.keys())))\n",
    "        for (i,z,lev) in zip(res,marks,bestlevel):\n",
    "            # print(np.array([res[i][lev][1][subfig]/res[i][lev][j][subfig] for j in numthreads]))\n",
    "            axs[subfig].plot(np.array(numthreads), np.array([res[i][lev][1][subfig]/res[i][lev][j][subfig] for j in numthreads]), z, linewidth=linew, markersize=markers)\n",
    "        axs[subfig].plot(np.array(numthreads), np.array(numthreads), '-', linewidth=linew, markersize=markers)\n",
    "        axs[subfig].set_title(f'{labels[subfig]}',  fontweight='bold', fontsize=ylabelfs)\n",
    "        axs[subfig].set_xlabel('Number of cores', fontsize=xlabelfs)\n",
    "        axs[subfig].set_xticks(numthreads)\n",
    "        axs[subfig].tick_params(axis='x', labelsize=xticksfs)\n",
    "        axs[subfig].grid()\n",
    "\n",
    "    fig.suptitle(f'Speedup for each cloud and each phase O4 @ {hostname}', fontweight='bold', fontsize=titlefs)\n",
    "    axs[0].set_ylabel('Speedup', fontsize=ylabelfs)\n",
    "    axs[0].legend(sizes,loc='best', fontsize= legendfs)\n",
    "\n",
    "    return fig\n",
    "\n",
    "fig = plot_res(resSP)"
   ]
  },
  {
   "cell_type": "code",
   "execution_count": null,
   "metadata": {},
   "outputs": [],
   "source": [
    "pp = PdfPages(f\"{hostname}/Speedup-o4-{hostname}.pdf\")\n",
    "pp.savefig(fig)\n",
    "pp.close()"
   ]
  }
 ],
 "metadata": {
  "kernelspec": {
   "display_name": "base",
   "language": "python",
   "name": "python3"
  },
  "language_info": {
   "codemirror_mode": {
    "name": "ipython",
    "version": 3
   },
   "file_extension": ".py",
   "mimetype": "text/x-python",
   "name": "python",
   "nbconvert_exporter": "python",
   "pygments_lexer": "ipython3",
   "version": "3.10.12"
  },
  "orig_nbformat": 4,
  "vscode": {
   "interpreter": {
    "hash": "850f69f8b3870a2e12c010bb1b08bab45b077fa7538fcdf70f2545b339f20404"
   }
  }
 },
 "nbformat": 4,
 "nbformat_minor": 2
}
