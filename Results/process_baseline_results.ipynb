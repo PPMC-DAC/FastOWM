{
 "cells": [
  {
   "attachments": {},
   "cell_type": "markdown",
   "metadata": {},
   "source": [
    "# This script process the baseline results \n",
    "\n",
    "1. Compile the baseline with:\n",
    "```\n",
    "make bin/baseline\n",
    "make bin/par_baseline\n",
    "```\n",
    "2. Run the benchmarking script\n",
    "```\n",
    "cd scripts\n",
    "python3 run_par_baseline\n",
    "```\n",
    "3. The output that we will process is baseline_coffee.txt (renamed from baseline.out)"
   ]
  },
  {
   "cell_type": "code",
   "execution_count": null,
   "metadata": {},
   "outputs": [],
   "source": [
    "import os\n",
    "# select the server_name\n",
    "server_name = \"CoffeeLake\"\n",
    "# ensure the directory exists\n",
    "os.makedirs(server_name, exist_ok=True)\n",
    "# ensure the file with baseline results exists\n",
    "baseline_file = os.path.join(server_name, \"baseline.out\")\n",
    "if os.path.exists(baseline_file):\n",
    "    print(f'Renaming {baseline_file}')\n",
    "    # rename the file adding server_name as suffix\n",
    "    os.rename(baseline_file, baseline_file.replace(\".out\", f\"_{server_name}.out\"))\n",
    "else:\n",
    "    # check if the name was already changed\n",
    "    assert os.path.exists(baseline_file.replace(\".out\", f\"_{server_name}.out\")), f'File {baseline_file} not found'\n",
    "# modify the baseline file\n",
    "baseline_file = baseline_file.replace(\".out\", f\"_{server_name}.out\")"
   ]
  },
  {
   "cell_type": "code",
   "execution_count": null,
   "metadata": {},
   "outputs": [],
   "source": [
    "import numpy as np\n",
    "import matplotlib.pyplot as plt\n",
    "from matplotlib.backends.backend_pdf import PdfPages\n",
    "import sys\n",
    "from statistics import mean\n",
    "\n",
    "experiment ={}\n",
    "\n",
    "with open(baseline_file) as f:\n",
    "    for line in f:\n",
    "        tokens = line.split()\n",
    "        if \"Running:\" in tokens:\n",
    "            name=tokens[2].split(\"/\")[3]\n",
    "            nth=int(tokens[6])\n",
    "            if name not in experiment:\n",
    "                experiment[name]={'seq':{}, 'par':{} }\n",
    "        if \"SEQUENTIAL\" in tokens:\n",
    "            status=\"seq\"\n",
    "        if 'CORES' in tokens:\n",
    "            status=\"par\"\n",
    "        if 'Octree' in tokens:\n",
    "            experiment[name][status][nth]=[float(tokens[5])]\n",
    "        if \"STAGE\" in tokens:\n",
    "            experiment[name][status][nth].append(float(tokens[5]))\n",
    "        if 'Average:' in tokens:\n",
    "            experiment[name][status][nth].append(float(tokens[1]))\n",
    "\n",
    "#print(experiment)\n",
    "\n",
    "results = {}\n",
    "\n",
    "for i in experiment:\n",
    "    results[i]={'seq':{}, 'par':{} }\n",
    "    results[i]['seq']['octree']=experiment[i]['seq'][1][0]\n",
    "    results[i]['seq']['stage1']=mean(experiment[i]['seq'][1][1:15:3])\n",
    "    results[i]['seq']['stage2']=mean(experiment[i]['seq'][1][2:15:3])\n",
    "    results[i]['seq']['stage3']=mean(experiment[i]['seq'][1][3:15:3])\n",
    "    results[i]['seq']['owm']=experiment[i]['seq'][1][16]\n",
    "    for j in experiment[i]['par']:\n",
    "        results[i]['par'][j]={}\n",
    "        results[i]['par'][j]['octree']=experiment[i]['par'][j][0]\n",
    "        results[i]['par'][j]['stage1']=mean(experiment[i]['par'][j][1:15:3])\n",
    "        results[i]['par'][j]['stage2']=mean(experiment[i]['par'][j][2:15:3])\n",
    "        results[i]['par'][j]['stage3']=mean(experiment[i]['par'][j][3:15:3])\n",
    "        results[i]['par'][j]['owm']=experiment[i]['par'][j][16]\n",
    "#print(results)\n",
    "for i in experiment:\n",
    "    print(\"Cloud {} has Octree creation time = {:.2f}\".format(i,mean(list(results[i]['par'][j]['octree'] for j in [1,2,4,6,8]))))\n"
   ]
  },
  {
   "cell_type": "code",
   "execution_count": null,
   "metadata": {},
   "outputs": [],
   "source": [
    "for i in experiment:\n",
    "    print(\"Cloud {} has sequential OWM time = {:.2f}\".format(i,results[i]['seq']['owm'] ))\n"
   ]
  },
  {
   "cell_type": "code",
   "execution_count": null,
   "metadata": {},
   "outputs": [],
   "source": [
    "for i in experiment:\n",
    "    print(\"Cloud {} has parallel OWM with 8 threads time(speedup) = {:.2f} ({:.1f}x)\".format(i,results[i]['par'][8]['owm'],results[i]['seq']['owm']/results[i]['par'][8]['owm'] ))"
   ]
  },
  {
   "cell_type": "code",
   "execution_count": null,
   "metadata": {},
   "outputs": [],
   "source": [
    "for i in experiment:\n",
    "    for j in ['stage1','stage2','stage3']:\n",
    "        print(\"Cloud {} stage {} time (percent) = {:.4f} ({:.2f}%)\".format(i,j,results[i]['seq'][j],results[i]['seq'][j]/results[i]['seq']['owm']*100))\n"
   ]
  },
  {
   "attachments": {},
   "cell_type": "markdown",
   "metadata": {},
   "source": [
    "# Spedup for each cloud"
   ]
  },
  {
   "cell_type": "code",
   "execution_count": null,
   "metadata": {},
   "outputs": [],
   "source": [
    "#Configuration variables\n",
    "titlefs = 20\n",
    "ylabelfs = 18\n",
    "xlabelfs = 18\n",
    "xticksfs = 16\n",
    "yticksfs = 16\n",
    "legendfs = 14\n",
    "linew = 2\n",
    "markers = 8\n",
    "\n",
    "fig = plt.figure()\n",
    "\n",
    "marks=['o-','x-','s-','v-','+-']\n",
    "\n",
    "for (i,z) in zip(experiment,marks):\n",
    "    print(np.array([results[i]['seq']['owm']/results[i]['par'][j]['owm'] for j in [1,2,4,6,8]]))\n",
    "    plt.plot(np.array([1,2,4,6,8]), np.array([results[i]['seq']['owm']/results[i]['par'][j]['owm'] for j in [1,2,4,6,8]]), z, linewidth=linew, markersize=markers)\n",
    "plt.plot(np.array([1,2,4,6,8]), np.array([1,2,4,6,8]), '-', linewidth=linew, markersize=markers)\n",
    "\n",
    "sizes=[i for i in experiment]\n",
    "sizes.append('Ideal')\n",
    "plt.title('Speedup',  fontweight='bold', fontsize=titlefs)\n",
    "plt.legend(sizes,loc='best', fontsize= legendfs)\n",
    "plt.ylabel('Speedup', fontsize=ylabelfs)\n",
    "plt.xlabel('Number of cores', fontsize=xlabelfs)\n",
    "plt.xticks([1,2,4,6,8],fontsize=xticksfs)\n",
    "plt.yticks(fontsize=yticksfs)\n",
    "plt.grid()\n",
    "\n",
    "plt.show()"
   ]
  },
  {
   "cell_type": "code",
   "execution_count": null,
   "metadata": {},
   "outputs": [],
   "source": [
    "pp = PdfPages(os.path.join(server_name, f'Speedup-ompBaseline-{server_name}.pdf'))\n",
    "pp.savefig(fig)\n",
    "pp.close()"
   ]
  },
  {
   "attachments": {},
   "cell_type": "markdown",
   "metadata": {},
   "source": [
    "# Start incremental file with results for each optimization"
   ]
  },
  {
   "cell_type": "code",
   "execution_count": null,
   "metadata": {},
   "outputs": [],
   "source": [
    "output = os.path.join(server_name, f'All_Optimizations-{server_name}.csv')\n",
    "\n",
    "f = open(output, \"a\")\n",
    "f.write(\"Optimization;Cloud;TimeTree;TimeOWM;Level;MinRadMaxNum\\n\")\n",
    "\n",
    "for i in experiment:\n",
    "    f.write(\"Baseline;{};{:.5f};{:.5f};{};{}\\n\".format(i,mean(list(results[i]['par'][j]['octree'] for j in [1,2,4,6,8])),results[i]['par'][8]['owm'],0,0))\n",
    "\n",
    "f.close()"
   ]
  }
 ],
 "metadata": {
  "kernelspec": {
   "display_name": "venv-intel",
   "language": "python",
   "name": "venv-intel"
  },
  "language_info": {
   "codemirror_mode": {
    "name": "ipython",
    "version": 3
   },
   "file_extension": ".py",
   "mimetype": "text/x-python",
   "name": "python",
   "nbconvert_exporter": "python",
   "pygments_lexer": "ipython3",
   "version": "3.7.11"
  },
  "orig_nbformat": 4,
  "vscode": {
   "interpreter": {
    "hash": "850f69f8b3870a2e12c010bb1b08bab45b077fa7538fcdf70f2545b339f20404"
   }
  }
 },
 "nbformat": 4,
 "nbformat_minor": 2
}
